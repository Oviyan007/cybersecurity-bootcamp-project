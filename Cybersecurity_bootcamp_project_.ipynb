{
  "nbformat": 4,
  "nbformat_minor": 0,
  "metadata": {
    "colab": {
      "name": "Cybersecurity bootcamp project .ipynb",
      "provenance": [],
      "authorship_tag": "ABX9TyNUbxEHMr9LavUbL32NbCCx",
      "include_colab_link": true
    },
    "kernelspec": {
      "name": "python3",
      "display_name": "Python 3"
    },
    "language_info": {
      "name": "python"
    }
  },
  "cells": [
    {
      "cell_type": "markdown",
      "metadata": {
        "id": "view-in-github",
        "colab_type": "text"
      },
      "source": [
        "<a href=\"https://colab.research.google.com/github/Oviyan007/cybersecurity-bootcamp-project/blob/main/Cybersecurity_bootcamp_project_.ipynb\" target=\"_parent\"><img src=\"https://colab.research.google.com/assets/colab-badge.svg\" alt=\"Open In Colab\"/></a>"
      ]
    },
    {
      "cell_type": "code",
      "metadata": {
        "colab": {
          "base_uri": "https://localhost:8080/"
        },
        "id": "9usJGZMBW_IJ",
        "outputId": "3b145e00-315c-4a13-f9b6-0fa1bc484984"
      },
      "source": [
        "import requests\n",
        "from datetime import datetime\n",
        "api_key ='2dec561906a8080d62e511638a5efc46'\n",
        "location = input(\"Enter the name of the city: \")\n",
        "complete_api_link = \"https://api.openweathermap.org/data/2.5/weather?q=\"+location+\"&appid=\"+api_key\n",
        "api_link = requests.get(complete_api_link)\n",
        "api_data = api_link.json()\n",
        "\n",
        "temp_city = ((api_data['main']['temp'])- 273.15)\n",
        "weather_desc = api_data['weather'][0]['description']\n",
        "\n",
        "hmdt = api_data['main']['humidity']\n",
        "\n",
        "wind_spd = api_data['wind']['speed']\n",
        "\n",
        "date_time = datetime.now().strftime(\"%d %b %Y | %I:%M:%S %p\")\n",
        "\n",
        "print(\"-----------------------------------------------\")\n",
        "print(\"Weather stats for - {} || {}\".format(location.upper(),date_time))\n",
        "print(\"-----------------------------------------------\")\n",
        "\n",
        "print(\"Current temperature is : {:.2f}deg C\".format(temp_city))\n",
        "\n",
        "\n",
        "print(\"Current weather desc  :\",weather_desc)\n",
        "\n",
        "print(\"current humidity :\",hmdt,\"%\")\n",
        "\n",
        "print(\"current windspeed :\",wind_spd,'kmph')"
      ],
      "execution_count": 10,
      "outputs": [
        {
          "output_type": "stream",
          "text": [
            "Enter the name of the city: Ooty \n",
            "-----------------------------------------------\n",
            "Weather stats for - OOTY  || 22 Jun 2021 | 04:38:19 PM\n",
            "-----------------------------------------------\n",
            "Current temperature is : 14.07deg C\n",
            "Current weather desc  : overcast clouds\n",
            "current humidity : 79 %\n",
            "current windspeed : 1.25 kmph\n"
          ],
          "name": "stdout"
        }
      ]
    }
  ]
}